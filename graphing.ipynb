{
 "cells": [
  {
   "cell_type": "code",
   "execution_count": null,
   "metadata": {},
   "outputs": [
    {
     "ename": "",
     "evalue": "",
     "output_type": "error",
     "traceback": [
      "\u001b[1;31mFailed to start the Kernel. \n",
      "\u001b[1;31mJupyter server crashed. Unable to connect. \n",
      "\u001b[1;31mError code from Jupyter: 1\n",
      "\u001b[1;31musage: jupyter.py [-h] [--version] [--config-dir] [--data-dir] [--runtime-dir]\n",
      "\u001b[1;31m                  [--paths] [--json] [--debug]\n",
      "\u001b[1;31m                  [subcommand]\n",
      "\u001b[1;31m\n",
      "\u001b[1;31mJupyter: Interactive Computing\n",
      "\u001b[1;31m\n",
      "\u001b[1;31mpositional arguments:\n",
      "\u001b[1;31m  subcommand     the subcommand to launch\n",
      "\u001b[1;31m\n",
      "\u001b[1;31moptional arguments:\n",
      "\u001b[1;31m  -h, --help     show this help message and exit\n",
      "\u001b[1;31m  --version      show the versions of core jupyter packages and exit\n",
      "\u001b[1;31m  --config-dir   show Jupyter config dir\n",
      "\u001b[1;31m  --data-dir     show Jupyter data dir\n",
      "\u001b[1;31m  --runtime-dir  show Jupyter runtime dir\n",
      "\u001b[1;31m  --paths        show all Jupyter paths. Add --json for machine-readable\n",
      "\u001b[1;31m                 format.\n",
      "\u001b[1;31m  --json         output paths as machine-readable json\n",
      "\u001b[1;31m  --debug        output debug information about paths\n",
      "\u001b[1;31m\n",
      "\u001b[1;31mAvailable subcommands:\n",
      "\u001b[1;31m\n",
      "\u001b[1;31mJupyter command `jupyter-notebook` not found. \n",
      "\u001b[1;31mView Jupyter <a href='command:jupyter.viewOutput'>log</a> for further details."
     ]
    }
   ],
   "source": [
    "import matplotlib.pyplot as plt\n",
    "\n",
    "files = [s1put, s1get, s1scan]\n",
    "y_axis = [\"Put throughput (Milliseconds / put)\", \"Get throughput (Milliseconds / get)\", \"Scan throughput (Milliseconds / scan\"]\n",
    "titles = [\"Put throughput vs Data Volume\", \"Get throughput vs Data Volume\", \"Scan throughput vs Data throughput\"]\n",
    "\n",
    "\n",
    "for i in range(len(files)):\n",
    "    with open(files[i], 'r') as f:\n",
    "        data = f.read().split('\\n')\n",
    "        x = []\n",
    "        y = []\n",
    "        dat = []\n",
    "        for row in data:\n",
    "          row_data = row.split(',')\n",
    "          if len(row_data) == 2:\n",
    "              x.append(float(row_data[0]))\n",
    "              y.append(float(row_data[1]))\n",
    "\n",
    "          dat.append((x, y))\n",
    "\n",
    "\n",
    "        for x, y in dat:\n",
    "            plt.plot(x, y, marker='o')\n",
    "\n",
    "        plt.xlabel(\"Data Volume\")\n",
    "        plt.ylabel(y_axis[i])\n",
    "        plt.title(titles[i])\n",
    "        plt.show()"
   ]
  }
 ],
 "metadata": {
  "kernelspec": {
   "display_name": "csc443",
   "language": "python",
   "name": "python3"
  },
  "language_info": {
   "name": "python",
   "version": "3.9.16"
  },
  "orig_nbformat": 4,
  "vscode": {
   "interpreter": {
    "hash": "1b7eaddd67daeec98375988f5b416df5dbd6d23df2d83e007bce69bb3e01b2b5"
   }
  }
 },
 "nbformat": 4,
 "nbformat_minor": 2
}
